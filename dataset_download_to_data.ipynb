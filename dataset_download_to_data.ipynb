{
 "cells": [
  {
   "cell_type": "code",
   "execution_count": 2,
   "id": "06406732",
   "metadata": {},
   "outputs": [],
   "source": [
    "from datasets import load_dataset\n",
    "import matplotlib.pyplot as plt\n",
    "import os\n",
    "import cv2\n",
    "\n",
    "#ds = load_dataset(\"chashaotm/impressionist_paintings\", split='train')\n",
    "dataset_dir = \"C:/Users/arnau/Downloads/images\"\n",
    "image_list = [cv2.imread(os.path.join(dataset_dir, file)) for file in os.listdir(dataset_dir) if file.endswith(('.png','.PNG'))]"
   ]
  },
  {
   "cell_type": "code",
   "execution_count": 3,
   "id": "725db61d",
   "metadata": {},
   "outputs": [
    {
     "data": {
      "text/plain": [
       "5934"
      ]
     },
     "execution_count": 3,
     "metadata": {},
     "output_type": "execute_result"
    }
   ],
   "source": [
    "len(image_list)"
   ]
  },
  {
   "cell_type": "code",
   "execution_count": 5,
   "id": "d7393b3a",
   "metadata": {},
   "outputs": [
    {
     "data": {
      "text/plain": [
       "'\\n    # Affichage\\n    plt.subplot(1, 2, 1)\\n    plt.title(\"Original\")\\n    plt.imshow(img)\\n    plt.axis(\"off\")\\n\\n    plt.subplot(1, 2, 2)\\n    plt.title(\"Compressed (100x100)\")\\n    plt.imshow(compressed_img)\\n    plt.axis(\"off\")\\n\\n    plt.show()\\n\\n'"
      ]
     },
     "execution_count": 5,
     "metadata": {},
     "output_type": "execute_result"
    }
   ],
   "source": [
    "from PIL import Image\n",
    "import numpy as np\n",
    "import os\n",
    "\n",
    "os.makedirs(\"abstract_compressed\", exist_ok=True)\n",
    "\n",
    "\n",
    "def compress_image_without_new_colors(img: Image.Image, size=(100, 100)):\n",
    "    #img = img.convert(\"RGB\")\n",
    "    np_img = np.array(img)\n",
    "\n",
    "    h, w = np_img.shape[:2]\n",
    "    target_h, target_w = size\n",
    "\n",
    "    step_h = h // target_h\n",
    "    step_w = w // target_w\n",
    "\n",
    "    # Si l'image est trop petite, on peut la \"centrer\" dans un canevas blanc plus grand\n",
    "    if step_h == 0 or step_w == 0:\n",
    "        # Agrandir le canevas à la bonne taille avec fond blanc\n",
    "        canvas = np.ones((target_h, target_w, 3), dtype=np.uint8) * 255\n",
    "        np_img = np_img[:min(h, target_h), :min(w, target_w)]\n",
    "        canvas[:np_img.shape[0], :np_img.shape[1]] = np_img\n",
    "        return Image.fromarray(canvas)\n",
    "\n",
    "    # Sélectionner un pixel dans chaque bloc sans interpolation\n",
    "    compressed = np_img[::step_h, ::step_w]\n",
    "\n",
    "    # Ajuster si la taille n'est pas pile 100x100\n",
    "    compressed = compressed[:target_h, :target_w]\n",
    "\n",
    "    return Image.fromarray(compressed)\n",
    "\n",
    "# Boucle de test sur les premières images\n",
    "for i in range(len(image_list)):\n",
    "    img = image_list[i]\n",
    "    compressed_img = compress_image_without_new_colors(img, size=(100, 100))\n",
    "\n",
    "    # Sauvegarde\n",
    "    compressed_img.save(f\"abstract_compressed/{i}.png\")\n",
    "\n",
    "'''\n",
    "    # Affichage\n",
    "    plt.subplot(1, 2, 1)\n",
    "    plt.title(\"Original\")\n",
    "    plt.imshow(img)\n",
    "    plt.axis(\"off\")\n",
    "\n",
    "    plt.subplot(1, 2, 2)\n",
    "    plt.title(\"Compressed (100x100)\")\n",
    "    plt.imshow(compressed_img)\n",
    "    plt.axis(\"off\")\n",
    "\n",
    "    plt.show()\n",
    "\n",
    "'''\n"
   ]
  },
  {
   "cell_type": "code",
   "execution_count": null,
   "id": "7405ca64",
   "metadata": {},
   "outputs": [],
   "source": []
  }
 ],
 "metadata": {
  "kernelspec": {
   "display_name": "base",
   "language": "python",
   "name": "python3"
  },
  "language_info": {
   "codemirror_mode": {
    "name": "ipython",
    "version": 3
   },
   "file_extension": ".py",
   "mimetype": "text/x-python",
   "name": "python",
   "nbconvert_exporter": "python",
   "pygments_lexer": "ipython3",
   "version": "3.12.4"
  }
 },
 "nbformat": 4,
 "nbformat_minor": 5
}
